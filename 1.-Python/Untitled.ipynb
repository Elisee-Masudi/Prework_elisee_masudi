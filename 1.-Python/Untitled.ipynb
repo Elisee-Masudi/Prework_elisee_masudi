{
 "cells": [
  {
   "cell_type": "code",
   "execution_count": 5,
   "metadata": {},
   "outputs": [
    {
     "name": "stdout",
     "output_type": "stream",
     "text": [
      "Cake is in the oven.\n",
      "Cake is not done yet.\n",
      "30\n",
      "Cake is not done yet.\n",
      "45\n",
      "Cake is not done yet.\n",
      "60\n"
     ]
    }
   ],
   "source": [
    "total_time = 60\n",
    "minutes_elapsed = 0\n",
    "wait = 15\n",
    " \n",
    "print(\"Cake is in the oven.\")\n",
    "minutes_elapsed += wait\n",
    " \n",
    "while minutes_elapsed < total_time:\n",
    "    print(\"Cake is not done yet.\")\n",
    "    minutes_elapsed += wait\n",
    "    print (minutes_elapsed)\n"
   ]
  },
  {
   "cell_type": "code",
   "execution_count": 8,
   "metadata": {},
   "outputs": [
    {
     "name": "stdout",
     "output_type": "stream",
     "text": [
      "It's done. Let's eat cake!\n"
     ]
    }
   ],
   "source": [
    "if minutes_elapsed > 50:\n",
    " print(\"It's done. Let's eat cake!\")"
   ]
  }
 ],
 "metadata": {
  "kernelspec": {
   "display_name": "Python 3",
   "language": "python",
   "name": "python3"
  },
  "language_info": {
   "codemirror_mode": {
    "name": "ipython",
    "version": 3
   },
   "file_extension": ".py",
   "mimetype": "text/x-python",
   "name": "python",
   "nbconvert_exporter": "python",
   "pygments_lexer": "ipython3",
   "version": "3.8.5"
  }
 },
 "nbformat": 4,
 "nbformat_minor": 4
}
